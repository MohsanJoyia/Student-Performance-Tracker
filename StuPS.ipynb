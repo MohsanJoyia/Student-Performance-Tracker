{
 "cells": [
  {
   "cell_type": "code",
   "execution_count": 1,
   "metadata": {},
   "outputs": [
    {
     "name": "stdout",
     "output_type": "stream",
     "text": [
      "Invalid input. Please enter an integer score.\n",
      "\n",
      "Student Performance Summary:\n",
      "Student: mohsan, Average Score: 52.00, Status: Passing\n",
      "Student: , Average Score: 56.33, Status: Passing\n",
      "\n",
      "Class Average Score: 54.17\n"
     ]
    }
   ],
   "source": [
    "class Student:\n",
    "    def __init__(self, name, scores):\n",
    "        self.name = name\n",
    "        self.scores = scores\n",
    "\n",
    "    def calculate_average(self):\n",
    "        return sum(self.scores) / len(self.scores)\n",
    "\n",
    "    def is_passing(self, passing_score=40):\n",
    "        return all(score >= passing_score for score in self.scores)\n",
    "\n",
    "\n",
    "class PerformanceTracker:\n",
    "    def __init__(self):\n",
    "        self.students = {}\n",
    "\n",
    "    def add_student(self, name, scores):\n",
    "        student = Student(name, scores)\n",
    "        self.students[name] = student\n",
    "\n",
    "    def calculate_class_average(self):\n",
    "        if not self.students:\n",
    "            return 0\n",
    "        total_scores = sum(student.calculate_average() for student in self.students.values())\n",
    "        return total_scores / len(self.students)\n",
    "\n",
    "    def display_student_performance(self):\n",
    "        for name, student in self.students.items():\n",
    "            average = student.calculate_average()\n",
    "            status = \"Passing\" if student.is_passing() else \"Needs Improvement\"\n",
    "            print(f\"Student: {name}, Average Score: {average:.2f}, Status: {status}\")\n",
    "        print(f\"\\nClass Average Score: {self.calculate_class_average():.2f}\")\n",
    "\n",
    "\n",
    "# Handling user input\n",
    "def main():\n",
    "    tracker = PerformanceTracker()\n",
    "    while True:\n",
    "        name = input(\"\\nEnter student's name (or type 'stop' to finish): \").strip()\n",
    "        if name.lower() == 'stop':\n",
    "            break\n",
    "        scores = []\n",
    "        for subject in [\"Math\", \"Science\", \"English\"]:\n",
    "            while True:\n",
    "                try:\n",
    "                    score = int(input(f\"Enter score for {subject}: \"))\n",
    "                    if 0 <= score <= 100:\n",
    "                        scores.append(score)\n",
    "                        break\n",
    "                    else:\n",
    "                        print(\"Please enter a score between 0 and 100.\")\n",
    "                except ValueError:\n",
    "                    print(\"Invalid input. Please enter an integer score.\")\n",
    "\n",
    "        tracker.add_student(name, scores)\n",
    "\n",
    "    # Display the performance summary\n",
    "    print(\"\\nStudent Performance Summary:\")\n",
    "    tracker.display_student_performance()\n",
    "\n",
    "# Run the program\n",
    "if __name__ == \"__main__\":\n",
    "    main()\n"
   ]
  },
  {
   "cell_type": "code",
   "execution_count": null,
   "metadata": {},
   "outputs": [],
   "source": []
  }
 ],
 "metadata": {
  "kernelspec": {
   "display_name": ".venv",
   "language": "python",
   "name": "python3"
  },
  "language_info": {
   "name": "python",
   "version": "3.12.3"
  }
 },
 "nbformat": 4,
 "nbformat_minor": 2
}
